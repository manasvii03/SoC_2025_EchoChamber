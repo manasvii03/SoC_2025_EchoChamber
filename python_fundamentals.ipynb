{
  "nbformat": 4,
  "nbformat_minor": 0,
  "metadata": {
    "colab": {
      "provenance": []
    },
    "kernelspec": {
      "name": "python3",
      "display_name": "Python 3"
    },
    "language_info": {
      "name": "python"
    }
  },
  "cells": [
    {
      "cell_type": "code",
      "execution_count": null,
      "metadata": {
        "colab": {
          "base_uri": "https://localhost:8080/"
        },
        "id": "ey476Hvk98zP",
        "outputId": "cc80d972-2d62-4cde-d1ba-e3bd2e06a88a"
      },
      "outputs": [
        {
          "output_type": "stream",
          "name": "stdout",
          "text": [
            "Hello world\n"
          ]
        }
      ],
      "source": [
        "print(\"Hello world\")"
      ]
    },
    {
      "cell_type": "markdown",
      "source": [
        "# Title"
      ],
      "metadata": {
        "id": "iHnJXmlV-H5l"
      }
    },
    {
      "cell_type": "code",
      "source": [
        "import tensorflow as tf\n",
        "import pandas as pd\n",
        "import numpy as np\n",
        "import matplotlib.pyplot as plt\n",
        "import torch"
      ],
      "metadata": {
        "id": "xVVuogeI-Pk8"
      },
      "execution_count": null,
      "outputs": []
    },
    {
      "cell_type": "code",
      "source": [
        "print(tf.__version__)"
      ],
      "metadata": {
        "colab": {
          "base_uri": "https://localhost:8080/"
        },
        "id": "L6jrk0wv_V7C",
        "outputId": "c4af297b-be26-46ad-e1cd-6c2628434b97"
      },
      "execution_count": null,
      "outputs": [
        {
          "output_type": "stream",
          "name": "stdout",
          "text": [
            "2.18.0\n"
          ]
        }
      ]
    },
    {
      "cell_type": "code",
      "source": [
        "text = 'geeks for geeks'\n",
        "\n",
        "# Splits at space\n",
        "print(text.split())\n",
        "\n",
        "word = 'geeks, for, geeks'\n",
        "\n",
        "# Splits at ','\n",
        "print(word.split(','))\n",
        "\n",
        "word = 'geeks, for, geeks, pawan'\n",
        "\n",
        "# maxsplit: 0 it basically splits text at , upto a maxsplit of 0\n",
        "print(word.split(', ', 0))\n"
      ],
      "metadata": {
        "colab": {
          "base_uri": "https://localhost:8080/"
        },
        "id": "zT-LsTHn_Ziv",
        "outputId": "1a759e0d-c9f8-49d5-a81b-0561f651e820"
      },
      "execution_count": null,
      "outputs": [
        {
          "output_type": "stream",
          "name": "stdout",
          "text": [
            "['geeks', 'for', 'geeks']\n",
            "['geeks', ' for', ' geeks']\n",
            "['geeks, for, geeks, pawan']\n"
          ]
        }
      ]
    },
    {
      "cell_type": "code",
      "source": [
        "d = (\"Geeks\", \"for\", \"Geeks\")\n",
        "e = [\"Geeks\", \"for\", \"Geeks\"]\n",
        "f = {\"Geeks\": 1, \"for\":2, \"Geeks\":3}\n",
        "print(type(d))\n",
        "print(type(e))\n",
        "print(type(f))"
      ],
      "metadata": {
        "colab": {
          "base_uri": "https://localhost:8080/"
        },
        "id": "s2927nRkZMfi",
        "outputId": "cf9c732f-68ae-471e-ddd1-2b46c8a3429f"
      },
      "execution_count": null,
      "outputs": [
        {
          "output_type": "stream",
          "name": "stdout",
          "text": [
            "<class 'tuple'>\n",
            "<class 'list'>\n",
            "<class 'dict'>\n"
          ]
        }
      ]
    },
    {
      "cell_type": "markdown",
      "source": [
        "\n",
        "**output formatting**"
      ],
      "metadata": {
        "id": "YonA1RTmhahy"
      }
    },
    {
      "cell_type": "code",
      "source": [
        "#fstring\n",
        "age=12\n",
        "print(f\"her age is {age}\")"
      ],
      "metadata": {
        "colab": {
          "base_uri": "https://localhost:8080/"
        },
        "id": "xzkFkAqxhcDk",
        "outputId": "da511aaf-1ff1-4af5-ce0e-0c245a65629a"
      },
      "execution_count": null,
      "outputs": [
        {
          "output_type": "stream",
          "name": "stdout",
          "text": [
            "her age is 12\n"
          ]
        }
      ]
    },
    {
      "cell_type": "code",
      "source": [
        "#using format()\n",
        "print(\"{0} and {1} go to the same school\".format('Manasvi','Ananya'))"
      ],
      "metadata": {
        "colab": {
          "base_uri": "https://localhost:8080/"
        },
        "id": "ZrMGfrnwhui4",
        "outputId": "79ea8fc0-af0e-49a3-fe46-7f88d7ef32e4"
      },
      "execution_count": null,
      "outputs": [
        {
          "output_type": "stream",
          "name": "stdout",
          "text": [
            "Manasvi and Ananya go to the same school\n"
          ]
        }
      ]
    },
    {
      "cell_type": "code",
      "source": [
        "#using %\n",
        "print(\"First number: %2d, Second number: %6.2f, Third number: %06.2f\" % (12, 5.333, 5.333))"
      ],
      "metadata": {
        "colab": {
          "base_uri": "https://localhost:8080/"
        },
        "id": "yI6tb0gIh-JP",
        "outputId": "b3cfee1c-293e-4a37-881c-6593c3354ed7"
      },
      "execution_count": null,
      "outputs": [
        {
          "output_type": "stream",
          "name": "stdout",
          "text": [
            "First number: 12, Second number:   5.33, Third number: 005.33\n"
          ]
        }
      ]
    },
    {
      "cell_type": "markdown",
      "source": [
        "%2d basically means it allows for an integer of length 2.\n",
        "%6.2f means it allows for an decimal number with two decimal places and total length is 6 including the dot.\n",
        "if the length comes up to be less than 6, then it is filled with spaces in the front.\n",
        "%06.2f means that instead of leading spaces, youll have leading zeros"
      ],
      "metadata": {
        "id": "SDc4GECqi4hz"
      }
    },
    {
      "cell_type": "code",
      "source": [
        "#using end and sep parameters\n",
        "print('09', '12', '2016', sep='-')\n",
        "print(\"Python\", end='@')\n",
        "print(\"GeeksforGeeks\")"
      ],
      "metadata": {
        "colab": {
          "base_uri": "https://localhost:8080/"
        },
        "id": "pxAbkkU3jWZp",
        "outputId": "d5c64d8d-f014-45a5-f1a8-25f060d54064"
      },
      "execution_count": null,
      "outputs": [
        {
          "output_type": "stream",
          "name": "stdout",
          "text": [
            "09-12-2016\n",
            "Python@GeeksforGeeks\n"
          ]
        }
      ]
    },
    {
      "cell_type": "markdown",
      "source": [
        "when i say x=5, python basicallt creates an object for the value 5 and makes x a reference to it.\n",
        "\n",
        "now if i say y=x, the y becomes a reference to the value 5 and not x.\n",
        "so any changes to x wont affect y.\n",
        "\n",
        "IMP: Python variables hold references to objects, not the actual objects themselves."
      ],
      "metadata": {
        "id": "IpXR9N4GrArY"
      }
    },
    {
      "cell_type": "markdown",
      "source": [
        "**ternary operators**"
      ],
      "metadata": {
        "id": "YIRZq2G_0zLr"
      }
    },
    {
      "cell_type": "code",
      "source": [
        "n = 5\n",
        "res = \"Even\" if n % 2 == 0 else \"Odd\"\n",
        "print(res)"
      ],
      "metadata": {
        "colab": {
          "base_uri": "https://localhost:8080/"
        },
        "id": "yNw52zcg03K5",
        "outputId": "c2744c18-b9ac-4860-8c34-281e5773ece5"
      },
      "execution_count": null,
      "outputs": [
        {
          "output_type": "stream",
          "name": "stdout",
          "text": [
            "Odd\n"
          ]
        }
      ]
    },
    {
      "cell_type": "code",
      "source": [
        "n = -5\n",
        "res = \"Positive\" if n > 0 else \"Negative\" if n < 0 else \"Zero\"\n",
        "print(res)"
      ],
      "metadata": {
        "colab": {
          "base_uri": "https://localhost:8080/"
        },
        "id": "FQ3oKNTx1Ixu",
        "outputId": "4fa18939-25be-47f6-d2c3-a2db56d1ee5f"
      },
      "execution_count": null,
      "outputs": [
        {
          "output_type": "stream",
          "name": "stdout",
          "text": [
            "Negative\n"
          ]
        }
      ]
    },
    {
      "cell_type": "code",
      "source": [
        "#using tuples\n",
        "n = 7\n",
        "res = (\"Odd\", \"Even\")[n % 2 == 0] #this gives (\"Odd\", \"Even\")[0] since condition is false\n",
        "print(res)"
      ],
      "metadata": {
        "colab": {
          "base_uri": "https://localhost:8080/"
        },
        "id": "bwbnBey71Mk3",
        "outputId": "69732b01-000f-4ee0-8d89-b8f867c3009a"
      },
      "execution_count": null,
      "outputs": [
        {
          "output_type": "stream",
          "name": "stdout",
          "text": [
            "Odd\n"
          ]
        }
      ]
    },
    {
      "cell_type": "code",
      "source": [
        "#using dict\n",
        "a = 10\n",
        "b = 20\n",
        "max = {True: a, False: b}[a > b] #{}[False]\n",
        "print(max)"
      ],
      "metadata": {
        "colab": {
          "base_uri": "https://localhost:8080/"
        },
        "id": "D_4bu2op1QQr",
        "outputId": "4f4a6ea2-877c-4db5-ec4d-ba5e3eec7369"
      },
      "execution_count": null,
      "outputs": [
        {
          "output_type": "stream",
          "name": "stdout",
          "text": [
            "20\n"
          ]
        }
      ]
    },
    {
      "cell_type": "code",
      "source": [
        "#using lambda\n",
        "a = 10\n",
        "b = 20\n",
        "max = (lambda x, y: x if x > y else y)(a, b)\n",
        "print(max)"
      ],
      "metadata": {
        "colab": {
          "base_uri": "https://localhost:8080/"
        },
        "id": "Zr7qxFCZ1ht9",
        "outputId": "ff1686cb-2a3c-4e67-e799-7408fc1a9bdf"
      },
      "execution_count": null,
      "outputs": [
        {
          "output_type": "stream",
          "name": "stdout",
          "text": [
            "20\n"
          ]
        }
      ]
    },
    {
      "cell_type": "markdown",
      "source": [
        "here a mini function is defined that takes two inputs x,y and returns x if condition true, otherwise returns y"
      ],
      "metadata": {
        "id": "LM-9l8VN12KT"
      }
    },
    {
      "cell_type": "code",
      "source": [
        "import keyword\n",
        "\n",
        "# printing all keywords at once using \"kwlist()\"\n",
        "print(\"The list of keywords is : \")\n",
        "print(keyword.kwlist)"
      ],
      "metadata": {
        "colab": {
          "base_uri": "https://localhost:8080/"
        },
        "id": "uUaONcrE11Gx",
        "outputId": "cd2a96f7-db17-4c6b-fb88-f88cb547f674"
      },
      "execution_count": null,
      "outputs": [
        {
          "output_type": "stream",
          "name": "stdout",
          "text": [
            "The list of keywords is : \n",
            "['False', 'None', 'True', 'and', 'as', 'assert', 'async', 'await', 'break', 'class', 'continue', 'def', 'del', 'elif', 'else', 'except', 'finally', 'for', 'from', 'global', 'if', 'import', 'in', 'is', 'lambda', 'nonlocal', 'not', 'or', 'pass', 'raise', 'return', 'try', 'while', 'with', 'yield']\n"
          ]
        }
      ]
    },
    {
      "cell_type": "markdown",
      "source": [
        "None is a special constant that denotes null value or void.\n",
        "\n",
        "0 and any empty container != None\n",
        "they are basically objects of its datatype NoneType"
      ],
      "metadata": {
        "id": "1zOfFyIn-gda"
      }
    },
    {
      "cell_type": "markdown",
      "source": [
        "non-local: This keyword works similar to the global, but rather than global, this keyword declares a variable to point to variable of outside enclosing function, in case of nested functions."
      ],
      "metadata": {
        "id": "qUIUag65_nNM"
      }
    },
    {
      "cell_type": "code",
      "source": [
        "a = 15\n",
        "b = 10\n",
        "\n",
        "def add():\n",
        "\n",
        "  \t# Add global variables a and b\n",
        "    c = a + b\n",
        "    print(c)\n",
        "\n",
        "add()  # Output: 25\n",
        "\n",
        "def fun():\n",
        "\n",
        "  # Local variable in fun()\n",
        "    var = 10\n",
        "\n",
        "    def gun():\n",
        "\n",
        "      \t# Modify var1 in the enclosing scope (fun)\n",
        "        nonlocal var\n",
        "        var += 10\n",
        "        print(var)\n",
        "\n",
        "    gun()\n",
        "\n",
        "fun() # Output: 20"
      ],
      "metadata": {
        "colab": {
          "base_uri": "https://localhost:8080/"
        },
        "id": "gw4YcVuZ-Wy7",
        "outputId": "f76690bd-c85d-47bf-943c-bf15c8baf7cc"
      },
      "execution_count": null,
      "outputs": [
        {
          "output_type": "stream",
          "name": "stdout",
          "text": [
            "25\n",
            "20\n"
          ]
        }
      ]
    },
    {
      "cell_type": "markdown",
      "source": [
        "tuples are used for fixed data cause it is immutable which means that it cannot be modified once created.\n",
        "\n",
        "list is just like an array\n",
        "\n",
        "sets are basically used for unique items and they are also unordered"
      ],
      "metadata": {
        "id": "kENy-tmMRM0k"
      }
    },
    {
      "cell_type": "markdown",
      "source": [
        "**dictionary**"
      ],
      "metadata": {
        "id": "J-_1c24sRtoZ"
      }
    },
    {
      "cell_type": "code",
      "source": [
        "d = {1: 'Geeks', 'name': 'For', 3: 'Geeks'}\n",
        "\n",
        "# Accessing an element using key\n",
        "print(d['name'])\n",
        "\n",
        "# Accessing a element using get\n",
        "print(d.get(3))"
      ],
      "metadata": {
        "colab": {
          "base_uri": "https://localhost:8080/"
        },
        "id": "1uD8sP7P_vII",
        "outputId": "0e04cb1a-f6da-4c07-d09c-0a7c902b592b"
      },
      "execution_count": null,
      "outputs": [
        {
          "output_type": "stream",
          "name": "stdout",
          "text": [
            "For\n",
            "Geeks\n"
          ]
        }
      ]
    },
    {
      "cell_type": "markdown",
      "source": [
        "**Match Case**\n",
        "\n",
        "this is also used to do conditional checks but provides a more elegant and flexible solution when if else becomes too complicated"
      ],
      "metadata": {
        "id": "bzIMUs-6anOu"
      }
    },
    {
      "cell_type": "code",
      "source": [
        "number = 2\n",
        "\n",
        "match number:\n",
        "    case 1:\n",
        "        print(\"One\")\n",
        "    case 2 | 3:\n",
        "        print(\"Two or Three\")\n",
        "    case _: ##this is like the default case that can match anything\n",
        "        print(\"Other number\")"
      ],
      "metadata": {
        "colab": {
          "base_uri": "https://localhost:8080/"
        },
        "id": "569Bq8vUicG2",
        "outputId": "4532525d-eff9-494a-b3e3-f185b611a5a3"
      },
      "execution_count": null,
      "outputs": [
        {
          "output_type": "stream",
          "name": "stdout",
          "text": [
            "Two or Three\n"
          ]
        }
      ]
    },
    {
      "cell_type": "code",
      "source": [
        "fruits = [\"apple\", \"orange\", \"kiwi\"]\n",
        "iter_obj = iter(fruits)\n",
        "## theres an infinite while loop thats gonna keep calling next(oter_obj)\n",
        "## after its done interating thru the entire loop, the next call is gonna raise StopIteration\n",
        "while True:\n",
        "    try:\n",
        "        fruit = next(iter_obj)\n",
        "        print(fruit)\n",
        "    except StopIteration:\n",
        "        break"
      ],
      "metadata": {
        "colab": {
          "base_uri": "https://localhost:8080/"
        },
        "id": "Zm9FF53rRwcT",
        "outputId": "f4c94630-394b-4f9f-dac6-3e8106b56485"
      },
      "execution_count": null,
      "outputs": [
        {
          "output_type": "stream",
          "name": "stdout",
          "text": [
            "apple\n",
            "orange\n",
            "kiwi\n"
          ]
        }
      ]
    },
    {
      "cell_type": "markdown",
      "source": [],
      "metadata": {
        "id": "_9P3zt5MrLT6"
      }
    },
    {
      "cell_type": "code",
      "source": [],
      "metadata": {
        "id": "WQVV6B5HinmF"
      },
      "execution_count": null,
      "outputs": []
    }
  ]
}