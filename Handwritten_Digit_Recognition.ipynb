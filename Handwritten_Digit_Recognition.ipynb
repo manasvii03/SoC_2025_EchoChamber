{
  "nbformat": 4,
  "nbformat_minor": 0,
  "metadata": {
    "colab": {
      "provenance": []
    },
    "kernelspec": {
      "name": "python3",
      "display_name": "Python 3"
    },
    "language_info": {
      "name": "python"
    }
  },
  "cells": [
    {
      "cell_type": "code",
      "execution_count": 26,
      "metadata": {
        "id": "nsDoIowup-JJ"
      },
      "outputs": [],
      "source": [
        "import numpy as np\n",
        "import matplotlib.pyplot as plt\n",
        "import random"
      ]
    },
    {
      "cell_type": "code",
      "source": [
        "from google.colab import files\n",
        "uploaded = files.upload()"
      ],
      "metadata": {
        "colab": {
          "base_uri": "https://localhost:8080/",
          "height": 39
        },
        "id": "MVG_f1BCuU3U",
        "outputId": "d25af173-eccc-4645-8fc7-2c7d3fbf103c"
      },
      "execution_count": 27,
      "outputs": [
        {
          "output_type": "display_data",
          "data": {
            "text/plain": [
              "<IPython.core.display.HTML object>"
            ],
            "text/html": [
              "\n",
              "     <input type=\"file\" id=\"files-5e84277e-17e8-41f5-a265-6e644a1ee33b\" name=\"files[]\" multiple disabled\n",
              "        style=\"border:none\" />\n",
              "     <output id=\"result-5e84277e-17e8-41f5-a265-6e644a1ee33b\">\n",
              "      Upload widget is only available when the cell has been executed in the\n",
              "      current browser session. Please rerun this cell to enable.\n",
              "      </output>\n",
              "      <script>// Copyright 2017 Google LLC\n",
              "//\n",
              "// Licensed under the Apache License, Version 2.0 (the \"License\");\n",
              "// you may not use this file except in compliance with the License.\n",
              "// You may obtain a copy of the License at\n",
              "//\n",
              "//      http://www.apache.org/licenses/LICENSE-2.0\n",
              "//\n",
              "// Unless required by applicable law or agreed to in writing, software\n",
              "// distributed under the License is distributed on an \"AS IS\" BASIS,\n",
              "// WITHOUT WARRANTIES OR CONDITIONS OF ANY KIND, either express or implied.\n",
              "// See the License for the specific language governing permissions and\n",
              "// limitations under the License.\n",
              "\n",
              "/**\n",
              " * @fileoverview Helpers for google.colab Python module.\n",
              " */\n",
              "(function(scope) {\n",
              "function span(text, styleAttributes = {}) {\n",
              "  const element = document.createElement('span');\n",
              "  element.textContent = text;\n",
              "  for (const key of Object.keys(styleAttributes)) {\n",
              "    element.style[key] = styleAttributes[key];\n",
              "  }\n",
              "  return element;\n",
              "}\n",
              "\n",
              "// Max number of bytes which will be uploaded at a time.\n",
              "const MAX_PAYLOAD_SIZE = 100 * 1024;\n",
              "\n",
              "function _uploadFiles(inputId, outputId) {\n",
              "  const steps = uploadFilesStep(inputId, outputId);\n",
              "  const outputElement = document.getElementById(outputId);\n",
              "  // Cache steps on the outputElement to make it available for the next call\n",
              "  // to uploadFilesContinue from Python.\n",
              "  outputElement.steps = steps;\n",
              "\n",
              "  return _uploadFilesContinue(outputId);\n",
              "}\n",
              "\n",
              "// This is roughly an async generator (not supported in the browser yet),\n",
              "// where there are multiple asynchronous steps and the Python side is going\n",
              "// to poll for completion of each step.\n",
              "// This uses a Promise to block the python side on completion of each step,\n",
              "// then passes the result of the previous step as the input to the next step.\n",
              "function _uploadFilesContinue(outputId) {\n",
              "  const outputElement = document.getElementById(outputId);\n",
              "  const steps = outputElement.steps;\n",
              "\n",
              "  const next = steps.next(outputElement.lastPromiseValue);\n",
              "  return Promise.resolve(next.value.promise).then((value) => {\n",
              "    // Cache the last promise value to make it available to the next\n",
              "    // step of the generator.\n",
              "    outputElement.lastPromiseValue = value;\n",
              "    return next.value.response;\n",
              "  });\n",
              "}\n",
              "\n",
              "/**\n",
              " * Generator function which is called between each async step of the upload\n",
              " * process.\n",
              " * @param {string} inputId Element ID of the input file picker element.\n",
              " * @param {string} outputId Element ID of the output display.\n",
              " * @return {!Iterable<!Object>} Iterable of next steps.\n",
              " */\n",
              "function* uploadFilesStep(inputId, outputId) {\n",
              "  const inputElement = document.getElementById(inputId);\n",
              "  inputElement.disabled = false;\n",
              "\n",
              "  const outputElement = document.getElementById(outputId);\n",
              "  outputElement.innerHTML = '';\n",
              "\n",
              "  const pickedPromise = new Promise((resolve) => {\n",
              "    inputElement.addEventListener('change', (e) => {\n",
              "      resolve(e.target.files);\n",
              "    });\n",
              "  });\n",
              "\n",
              "  const cancel = document.createElement('button');\n",
              "  inputElement.parentElement.appendChild(cancel);\n",
              "  cancel.textContent = 'Cancel upload';\n",
              "  const cancelPromise = new Promise((resolve) => {\n",
              "    cancel.onclick = () => {\n",
              "      resolve(null);\n",
              "    };\n",
              "  });\n",
              "\n",
              "  // Wait for the user to pick the files.\n",
              "  const files = yield {\n",
              "    promise: Promise.race([pickedPromise, cancelPromise]),\n",
              "    response: {\n",
              "      action: 'starting',\n",
              "    }\n",
              "  };\n",
              "\n",
              "  cancel.remove();\n",
              "\n",
              "  // Disable the input element since further picks are not allowed.\n",
              "  inputElement.disabled = true;\n",
              "\n",
              "  if (!files) {\n",
              "    return {\n",
              "      response: {\n",
              "        action: 'complete',\n",
              "      }\n",
              "    };\n",
              "  }\n",
              "\n",
              "  for (const file of files) {\n",
              "    const li = document.createElement('li');\n",
              "    li.append(span(file.name, {fontWeight: 'bold'}));\n",
              "    li.append(span(\n",
              "        `(${file.type || 'n/a'}) - ${file.size} bytes, ` +\n",
              "        `last modified: ${\n",
              "            file.lastModifiedDate ? file.lastModifiedDate.toLocaleDateString() :\n",
              "                                    'n/a'} - `));\n",
              "    const percent = span('0% done');\n",
              "    li.appendChild(percent);\n",
              "\n",
              "    outputElement.appendChild(li);\n",
              "\n",
              "    const fileDataPromise = new Promise((resolve) => {\n",
              "      const reader = new FileReader();\n",
              "      reader.onload = (e) => {\n",
              "        resolve(e.target.result);\n",
              "      };\n",
              "      reader.readAsArrayBuffer(file);\n",
              "    });\n",
              "    // Wait for the data to be ready.\n",
              "    let fileData = yield {\n",
              "      promise: fileDataPromise,\n",
              "      response: {\n",
              "        action: 'continue',\n",
              "      }\n",
              "    };\n",
              "\n",
              "    // Use a chunked sending to avoid message size limits. See b/62115660.\n",
              "    let position = 0;\n",
              "    do {\n",
              "      const length = Math.min(fileData.byteLength - position, MAX_PAYLOAD_SIZE);\n",
              "      const chunk = new Uint8Array(fileData, position, length);\n",
              "      position += length;\n",
              "\n",
              "      const base64 = btoa(String.fromCharCode.apply(null, chunk));\n",
              "      yield {\n",
              "        response: {\n",
              "          action: 'append',\n",
              "          file: file.name,\n",
              "          data: base64,\n",
              "        },\n",
              "      };\n",
              "\n",
              "      let percentDone = fileData.byteLength === 0 ?\n",
              "          100 :\n",
              "          Math.round((position / fileData.byteLength) * 100);\n",
              "      percent.textContent = `${percentDone}% done`;\n",
              "\n",
              "    } while (position < fileData.byteLength);\n",
              "  }\n",
              "\n",
              "  // All done.\n",
              "  yield {\n",
              "    response: {\n",
              "      action: 'complete',\n",
              "    }\n",
              "  };\n",
              "}\n",
              "\n",
              "scope.google = scope.google || {};\n",
              "scope.google.colab = scope.google.colab || {};\n",
              "scope.google.colab._files = {\n",
              "  _uploadFiles,\n",
              "  _uploadFilesContinue,\n",
              "};\n",
              "})(self);\n",
              "</script> "
            ]
          },
          "metadata": {}
        }
      ]
    },
    {
      "cell_type": "code",
      "source": [
        "#so we have two files for training the model and two files for testing it\n",
        "# _X means it contains the images\n",
        "# _label means it contains the correct name of the class to which the image belongs\n",
        "\n",
        "X_train=np.loadtxt('train_X.csv',delimiter=',').T\n",
        "Y_train=np.loadtxt('train_label.csv',delimiter=',').T\n",
        "X_test=np.loadtxt('test_X.csv',delimiter=',').T\n",
        "Y_test=np.loadtxt('test_label.csv',delimiter=',').T\n",
        "\n",
        "print(X_train.shape) #(784, 1000) means that i have 1000 images with 784 features each\n",
        "print(Y_train.shape)\n",
        "print(X_test.shape)\n",
        "print(Y_test.shape)"
      ],
      "metadata": {
        "id": "TBoPblmVuiXi",
        "colab": {
          "base_uri": "https://localhost:8080/"
        },
        "outputId": "725be9b0-f227-4a32-afbd-12f092c2e4af"
      },
      "execution_count": 28,
      "outputs": [
        {
          "output_type": "stream",
          "name": "stdout",
          "text": [
            "(784, 1000)\n",
            "(10, 1000)\n",
            "(784, 350)\n",
            "(10, 350)\n"
          ]
        }
      ]
    },
    {
      "cell_type": "code",
      "source": [
        "index = random.randrange(0,X_train.shape[1])\n",
        "plt.imshow(X_train[:,index].reshape(28,28),cmap=\"gray\")\n",
        "plt.show()"
      ],
      "metadata": {
        "id": "EvId93C8yLiA",
        "colab": {
          "base_uri": "https://localhost:8080/",
          "height": 430
        },
        "outputId": "1b751496-4872-4fbe-8f2f-041fb9a3b4f2"
      },
      "execution_count": 29,
      "outputs": [
        {
          "output_type": "display_data",
          "data": {
            "text/plain": [
              "<Figure size 640x480 with 1 Axes>"
            ],
            "image/png": "[encoded data removed]"
          },
          "metadata": {}
        }
      ]
    },
    {
      "cell_type": "code",
      "source": [
        "def tanh(x):\n",
        "  return np.tanh(x)\n",
        "\n",
        "def relu(x):\n",
        "  return np.maximum(x,0)\n",
        "\n",
        "def softmax(x):\n",
        "  expX = np.exp(x)\n",
        "  return expX/np.sum(expX,axis=0)"
      ],
      "metadata": {
        "id": "0YALTv3h0x6T"
      },
      "execution_count": 30,
      "outputs": []
    },
    {
      "cell_type": "code",
      "source": [
        "def derivative_tanh(x):\n",
        "  return (1-np.power(x,2))\n",
        "\n",
        "def derivative_relu(x):\n",
        "  return np.array(x>0,dtype=np.float32)"
      ],
      "metadata": {
        "id": "tk3UABh6BVxY"
      },
      "execution_count": 31,
      "outputs": []
    },
    {
      "cell_type": "code",
      "source": [
        "a=np.array([[1,-2,3],[1,4,-5]])\n",
        "derivative_relu(a)"
      ],
      "metadata": {
        "id": "ypHE9dpXBzrt",
        "colab": {
          "base_uri": "https://localhost:8080/"
        },
        "outputId": "adb7a407-497b-457e-f149-390e87f5398c"
      },
      "execution_count": 32,
      "outputs": [
        {
          "output_type": "execute_result",
          "data": {
            "text/plain": [
              "array([[1., 0., 1.],\n",
              "       [1., 1., 0.]], dtype=float32)"
            ]
          },
          "metadata": {},
          "execution_count": 32
        }
      ]
    },
    {
      "cell_type": "code",
      "source": [
        " # initialise parameters\n",
        "\n",
        "def initialize_parameters(n_x,n_h,n_y):\n",
        "  w1=np.random.randn(n_h,n_x)*0.01\n",
        "  b1=np.zeros((n_h,1))\n",
        "  w2=np.random.randn(n_y,n_h)*0.01\n",
        "  b2=np.zeros((n_y,1))\n",
        "  parameters={\n",
        "      'w1':w1,\n",
        "      'b1':b1,\n",
        "      'w2':w2,\n",
        "      'b2':b2,\n",
        "  }\n",
        "  return parameters"
      ],
      "metadata": {
        "id": "CAp2IJy-B7sW"
      },
      "execution_count": 33,
      "outputs": []
    },
    {
      "cell_type": "code",
      "source": [
        " # forward propogation\n",
        "\n",
        "def forward_propogation(x,parameters):\n",
        "  w1=parameters['w1']\n",
        "  b1=parameters['b1']\n",
        "  w2=parameters['w2']\n",
        "  b2=parameters['b2']\n",
        "\n",
        "  z1=np.dot(w1,x)+b1\n",
        "  a1=relu(z1)\n",
        "\n",
        "  z2=np.dot(w2,a1)+b2\n",
        "  a2=softmax(z2)\n",
        "\n",
        "  forward_cache={\n",
        "      'z1':z1,\n",
        "      'a1':a1,\n",
        "      'z2':z2,\n",
        "      'a2':a2,\n",
        "  }\n",
        "  return forward_cache"
      ],
      "metadata": {
        "id": "0Q279DhWkKdn"
      },
      "execution_count": 34,
      "outputs": []
    },
    {
      "cell_type": "code",
      "source": [
        "def cost_function(a2,y):\n",
        "  m = y.shape[1]\n",
        "  cost = -(1/m)*np.sum(y*np.log(a2))\n",
        "  # cost=(-1/m)*np.sum(np.sum(y*np.log(a2,0),1)) an also be used. a2,0 means rowwise summation and ,1 means columnwise\n",
        "  return cost"
      ],
      "metadata": {
        "id": "uJgBu0HNmxr_"
      },
      "execution_count": 35,
      "outputs": []
    },
    {
      "cell_type": "code",
      "source": [
        "def back_propogation(parameters,forward_cache,x,y):\n",
        "  w1=parameters['w1']\n",
        "  b1=parameters['b1']\n",
        "  w2=parameters['w2']\n",
        "  b2=parameters['b2']\n",
        "\n",
        "  a2=forward_cache['a2']\n",
        "  a1=forward_cache['a1']\n",
        "\n",
        "  m=x.shape[1]\n",
        "\n",
        "  dz2=a2-y\n",
        "  dw2=1/m*np.dot(dz2,a1.T)\n",
        "  db2=1/m*np.sum(dz2,axis=1,keepdims=True) # column wise summation\n",
        "\n",
        "  dz1=np.dot(w2.T,dz2)*derivative_relu(a1)\n",
        "  dw1=(1/m)*np.dot(dz1,x.T)\n",
        "  db1=(1/m)*np.sum(dz1,axis=1,keepdims=True)\n",
        "\n",
        "  grads={\n",
        "      'dw1':dw1,\n",
        "      'db1':db1,\n",
        "      'dw2':dw2,\n",
        "      'db2':db2,\n",
        "  }\n",
        "  return grads\n"
      ],
      "metadata": {
        "id": "DkFeETLnvLCs"
      },
      "execution_count": 42,
      "outputs": []
    },
    {
      "cell_type": "code",
      "source": [
        "def update_parameters(grads,parameters,learning_rate):\n",
        "  w1=parameters['w1']\n",
        "  b1=parameters['b1']\n",
        "  w2=parameters['w2']\n",
        "  b2=parameters['b2']\n",
        "  dw1=grads['dw1']\n",
        "  db1=grads['db1']\n",
        "  dw2=grads['dw2']\n",
        "  db2=grads['db2']\n",
        "\n",
        "  w1=w1-learning_rate*dw1\n",
        "  b1=b1-learning_rate*db1\n",
        "  w2=w2-learning_rate*dw2\n",
        "  b2=b2-learning_rate*db2\n",
        "\n",
        "  parameters={\n",
        "      'w1':w1,\n",
        "      'b1':b1,\n",
        "      'w2':w2,\n",
        "      'b2':b2,\n",
        "  }\n",
        "  return parameters"
      ],
      "metadata": {
        "id": "7bxSO0KCy9Eb"
      },
      "execution_count": 37,
      "outputs": []
    },
    {
      "cell_type": "code",
      "source": [
        "# compute model\n",
        "\n",
        "def model(x,y,n_h,iterations):\n",
        "  n_x=x.shape[0]\n",
        "  n_y=y.shape[0]\n",
        "  cost_list=[]\n",
        "  parameters=initialize_parameters(n_x,n_h,n_y)\n",
        "\n",
        "  for i in range(iterations):\n",
        "    forward_cache=forward_propogation(x,parameters)\n",
        "    cost=cost_function(forward_cache['a2'],y)\n",
        "    grads=back_propogation(parameters,forward_cache,x,y)\n",
        "    parameters=update_parameters(grads,parameters,0.005)\n",
        "    cost_list.append(cost)\n",
        "\n",
        "    if(i%(iterations/10)==0):\n",
        "      print(\"cost after iteration %i: %f\" %(i,cost))\n",
        "\n",
        "  return parameters,cost_list"
      ],
      "metadata": {
        "id": "jLm4uWyR5BbR"
      },
      "execution_count": 48,
      "outputs": []
    },
    {
      "cell_type": "code",
      "source": [
        "iterations=100\n",
        "n_h=1000\n",
        "Parameters,Cost_list=model(X_train,Y_train,n_h,iterations)"
      ],
      "metadata": {
        "colab": {
          "base_uri": "https://localhost:8080/"
        },
        "id": "InyYz77v6k2V",
        "outputId": "72beba0f-9a52-4137-f623-ae0e490f4284"
      },
      "execution_count": 49,
      "outputs": [
        {
          "output_type": "stream",
          "name": "stdout",
          "text": [
            "cost after iteration 0: 6.964749\n"
          ]
        },
        {
          "output_type": "stream",
          "name": "stderr",
          "text": [
            "/tmp/ipython-input-35-3054720132.py:3: RuntimeWarning: divide by zero encountered in log\n",
            "  cost = -(1/m)*np.sum(y*np.log(a2))\n",
            "/tmp/ipython-input-35-3054720132.py:3: RuntimeWarning: invalid value encountered in multiply\n",
            "  cost = -(1/m)*np.sum(y*np.log(a2))\n"
          ]
        },
        {
          "output_type": "stream",
          "name": "stdout",
          "text": [
            "cost after iteration 10: 0.414620\n",
            "cost after iteration 20: 0.162219\n",
            "cost after iteration 30: 0.081859\n",
            "cost after iteration 40: 0.046311\n",
            "cost after iteration 50: 0.031707\n",
            "cost after iteration 60: 0.023762\n",
            "cost after iteration 70: 0.018761\n",
            "cost after iteration 80: 0.015358\n",
            "cost after iteration 90: 0.012940\n"
          ]
        }
      ]
    },
    {
      "cell_type": "code",
      "source": [
        "t=np.arange(0,iterations)\n",
        "plt.plot(t, Cost_list)\n",
        "plt.show"
      ],
      "metadata": {
        "colab": {
          "base_uri": "https://localhost:8080/",
          "height": 602
        },
        "id": "dc-H9Kdq8ZkC",
        "outputId": "2b099631-e534-402c-9af8-e5123acfed6f"
      },
      "execution_count": 50,
      "outputs": [
        {
          "output_type": "execute_result",
          "data": {
            "text/plain": [
              "<function matplotlib.pyplot.show(close=None, block=None)>"
            ],
            "text/html": [
              "<div style=\"max-width:800px; border: 1px solid var(--colab-border-color);\"><style>\n",
              "      pre.function-repr-contents {\n",
              "        overflow-x: auto;\n",
              "        padding: 8px 12px;\n",
              "        max-height: 500px;\n",
              "      }\n",
              "\n",
              "      pre.function-repr-contents.function-repr-contents-collapsed {\n",
              "        cursor: pointer;\n",
              "        max-height: 100px;\n",
              "      }\n",
              "    </style>\n",
              "    <pre style=\"white-space: initial; background:\n",
              "         var(--colab-secondary-surface-color); padding: 8px 12px;\n",
              "         border-bottom: 1px solid var(--colab-border-color);\"><b>matplotlib.pyplot.show</b><br/>def show(*args, **kwargs) -&gt; None</pre><pre class=\"function-repr-contents function-repr-contents-collapsed\" style=\"\"><a class=\"filepath\" style=\"display:none\" href=\"#\">/usr/local/lib/python3.11/dist-packages/matplotlib/pyplot.py</a>Display all open figures.\n",
              "\n",
              "Parameters\n",
              "----------\n",
              "block : bool, optional\n",
              "    Whether to wait for all figures to be closed before returning.\n",
              "\n",
              "    If `True` block and run the GUI main loop until all figure windows\n",
              "    are closed.\n",
              "\n",
              "    If `False` ensure that all figure windows are displayed and return\n",
              "    immediately.  In this case, you are responsible for ensuring\n",
              "    that the event loop is running to have responsive figures.\n",
              "\n",
              "    Defaults to True in non-interactive mode and to False in interactive\n",
              "    mode (see `.pyplot.isinteractive`).\n",
              "\n",
              "See Also\n",
              "--------\n",
              "ion : Enable interactive mode, which shows / updates the figure after\n",
              "      every plotting command, so that calling ``show()`` is not necessary.\n",
              "ioff : Disable interactive mode.\n",
              "savefig : Save the figure to an image file instead of showing it on screen.\n",
              "\n",
              "Notes\n",
              "-----\n",
              "**Saving figures to file and showing a window at the same time**\n",
              "\n",
              "If you want an image file as well as a user interface window, use\n",
              "`.pyplot.savefig` before `.pyplot.show`. At the end of (a blocking)\n",
              "``show()`` the figure is closed and thus unregistered from pyplot. Calling\n",
              "`.pyplot.savefig` afterwards would save a new and thus empty figure. This\n",
              "limitation of command order does not apply if the show is non-blocking or\n",
              "if you keep a reference to the figure and use `.Figure.savefig`.\n",
              "\n",
              "**Auto-show in jupyter notebooks**\n",
              "\n",
              "The jupyter backends (activated via ``%matplotlib inline``,\n",
              "``%matplotlib notebook``, or ``%matplotlib widget``), call ``show()`` at\n",
              "the end of every cell by default. Thus, you usually don&#x27;t have to call it\n",
              "explicitly there.</pre>\n",
              "      <script>\n",
              "      if (google.colab.kernel.accessAllowed && google.colab.files && google.colab.files.view) {\n",
              "        for (const element of document.querySelectorAll('.filepath')) {\n",
              "          element.style.display = 'block'\n",
              "          element.onclick = (event) => {\n",
              "            event.preventDefault();\n",
              "            event.stopPropagation();\n",
              "            google.colab.files.view(element.textContent, 569);\n",
              "          };\n",
              "        }\n",
              "      }\n",
              "      for (const element of document.querySelectorAll('.function-repr-contents')) {\n",
              "        element.onclick = (event) => {\n",
              "          event.preventDefault();\n",
              "          event.stopPropagation();\n",
              "          element.classList.toggle('function-repr-contents-collapsed');\n",
              "        };\n",
              "      }\n",
              "      </script>\n",
              "      </div>"
            ]
          },
          "metadata": {},
          "execution_count": 50
        },
        {
          "output_type": "display_data",
          "data": {
            "text/plain": [
              "<Figure size 640x480 with 1 Axes>"
            ],
            "image/png": "[encoded data removed]"
          },
          "metadata": {}
        }
      ]
    },
    {
      "cell_type": "code",
      "source": [
        "def accuracy(inp,labels,parameters):\n",
        "  forward_cache=forward_propogation(inp,parameters)\n",
        "  a_out=forward_cache['a2']\n",
        "  a_out=np.argmax(a_out,axis=0)\n",
        "  y_out=np.argmax(labels,axis=0)\n",
        "  return np.mean(a_out==y_out)*100\n",
        "\n",
        "print(\"Accuracy of training set:\", accuracy(X_train,Y_train,Parameters))\n",
        "print(\"Accuracy of test set:\", accuracy(X_test,Y_test,Parameters))"
      ],
      "metadata": {
        "colab": {
          "base_uri": "https://localhost:8080/"
        },
        "id": "tpeRvaZ-90gv",
        "outputId": "7399a175-2b0c-4601-f0a5-1d544227c343"
      },
      "execution_count": 61,
      "outputs": [
        {
          "output_type": "stream",
          "name": "stdout",
          "text": [
            "Accuracy of training set: 100.0\n",
            "Accuracy of test set: 89.14285714285714\n"
          ]
        }
      ]
    },
    {
      "cell_type": "code",
      "source": [
        "index = random.randrange(0,X_train.shape[1])\n",
        "plt.imshow(X_train[:,index].reshape(28,28),cmap=\"gray\")\n",
        "plt.show()\n",
        "\n",
        "forward_cache=forward_propogation(X_train[:,index].reshape(X_test.shape[0],1),Parameters)\n",
        "a_out=forward_cache['a2']\n",
        "print(np.argmax(a_out))\n"
      ],
      "metadata": {
        "colab": {
          "base_uri": "https://localhost:8080/",
          "height": 448
        },
        "id": "OEsyiPNS_ETU",
        "outputId": "2289ce9f-d7ad-46a7-a2c7-717e303f079d"
      },
      "execution_count": 69,
      "outputs": [
        {
          "output_type": "display_data",
          "data": {
            "text/plain": [
              "<Figure size 640x480 with 1 Axes>"
            ],
            "image/png": "[encoded data removed]"
          },
          "metadata": {}
        },
        {
          "output_type": "stream",
          "name": "stdout",
          "text": [
            "8\n"
          ]
        }
      ]
    },
    {
      "cell_type": "code",
      "source": [
        "!cp Handwritten_Digit_Recognition.ipynb /content/"
      ],
      "metadata": {
        "colab": {
          "base_uri": "https://localhost:8080/"
        },
        "id": "hoXciF6nTAQA",
        "outputId": "1afd9242-edd7-4730-86a0-8992a1d0d6ce"
      },
      "execution_count": 3,
      "outputs": [
        {
          "output_type": "stream",
          "name": "stdout",
          "text": [
            "cp: cannot stat 'Handwritten_Digit_Recognition.ipynb': No such file or directory\n"
          ]
        }
      ]
    },
    {
      "cell_type": "code",
      "source": [
        "!cp \"Handwritten_Digit_Recognition.ipynb\" /content/\n"
      ],
      "metadata": {
        "colab": {
          "base_uri": "https://localhost:8080/"
        },
        "id": "Ls3Ow1wcTc2i",
        "outputId": "e6ddacb5-da29-4701-951c-edbb944540e4"
      },
      "execution_count": 4,
      "outputs": [
        {
          "output_type": "stream",
          "name": "stdout",
          "text": [
            "cp: cannot stat 'Handwritten_Digit_Recognition.ipynb': No such file or directory\n"
          ]
        }
      ]
    },
    {
      "cell_type": "code",
      "source": [],
      "metadata": {
        "id": "QXgoIGZvToyp"
      },
      "execution_count": null,
      "outputs": []
    }
  ]
}