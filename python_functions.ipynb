{
  "nbformat": 4,
  "nbformat_minor": 0,
  "metadata": {
    "colab": {
      "provenance": []
    },
    "kernelspec": {
      "name": "python3",
      "display_name": "Python 3"
    },
    "language_info": {
      "name": "python"
    }
  },
  "cells": [
    {
      "cell_type": "markdown",
      "source": [
        "you can pass functions as arguments too\n"
      ],
      "metadata": {
        "id": "XlAWuRRjrhgt"
      }
    },
    {
      "cell_type": "code",
      "execution_count": null,
      "metadata": {
        "colab": {
          "base_uri": "https://localhost:8080/"
        },
        "id": "hmytELezrWuy",
        "outputId": "cd93c3ba-76f7-4bee-b961-7cdd722a179f"
      },
      "outputs": [
        {
          "output_type": "stream",
          "name": "stdout",
          "text": [
            "1\n",
            "2\n",
            "3\n",
            "4\n",
            "5\n"
          ]
        }
      ],
      "source": [
        "def fun(*args): #*args means that you can have how many ever arguments u want\n",
        "    for arg in args:\n",
        "        print(arg)\n",
        "\n",
        "# Calling the function with multiple arguments\n",
        "fun(1, 2, 3, 4, 5)"
      ]
    },
    {
      "cell_type": "code",
      "source": [
        "# **kwargs is used to pass how many ever keyword arguments u want\n",
        "# ** basically converts the arguments to a dictionary\n",
        "# kwargs.items() converts the dict into a list of tuples [(k1,val1),(k2,val2)]\n",
        "def fun(**kwargs):\n",
        "    for k, val in kwargs.items():\n",
        "        print(f\"{k}: {val}\")\n",
        "\n",
        "# Calling the function with keyword arguments\n",
        "fun(name=\"Alice\", age=30, city=\"New York\")"
      ],
      "metadata": {
        "id": "5cRZMzP1ryL0"
      },
      "execution_count": null,
      "outputs": []
    },
    {
      "cell_type": "markdown",
      "source": [
        "**creating a class**"
      ],
      "metadata": {
        "id": "za_U6n6wssnQ"
      }
    },
    {
      "cell_type": "code",
      "source": [
        "class Person:\n",
        "    # Constructor to initialize the person's name and age\n",
        "    def __init__(self, name, age):\n",
        "        self.name = name  # Set the name attribute\n",
        "        self.age = age    # Set the age attribute\n",
        "\n",
        "    # Method to print a greeting message\n",
        "    def greet(self):\n",
        "        print(f\"Name - {self.name} and Age - {self.age}.\")\n",
        "\n",
        "# Create an instance of the Person class\n",
        "p1 = Person(\"Alice\", 30)\n",
        "\n",
        "# Call the greet method to display the greeting message\n",
        "p1.greet()"
      ],
      "metadata": {
        "id": "0JUXohumsvyU"
      },
      "execution_count": null,
      "outputs": []
    },
    {
      "cell_type": "markdown",
      "source": [
        "\n",
        "\n",
        "*   you can return multiple values at once\n",
        "*   you can return lists and functions too\n",
        "\n"
      ],
      "metadata": {
        "id": "u7cPNMxSuIGh"
      }
    },
    {
      "cell_type": "markdown",
      "source": [
        "**global and local variables**\n",
        "\n",
        "when you want to change a global variable inside a function, you have to mention the global keyword otherwise its going to think that you are trying to access a local variable of the same name."
      ],
      "metadata": {
        "id": "gHAMsjD5zRzy"
      }
    },
    {
      "cell_type": "code",
      "source": [
        "a = 1\n",
        "\n",
        "# Uses global because there is no local 'a'\n",
        "def f():\n",
        "    print('Inside f() : ', a)\n",
        "\n",
        "# Variable 'a' is redefined as a local\n",
        "def g():\n",
        "    a = 2\n",
        "    print('Inside g() : ', a)\n",
        "\n",
        "# Uses global keyword to modify global 'a'\n",
        "def h():\n",
        "    global a\n",
        "    a = 3\n",
        "    print('Inside h() : ', a)\n",
        "\n",
        "\n",
        "# Global scope\n",
        "print('global : ', a)\n",
        "f()\n",
        "print('global : ', a)\n",
        "g()\n",
        "print('global : ', a)\n",
        "h()\n",
        "print('global : ', a)"
      ],
      "metadata": {
        "colab": {
          "base_uri": "https://localhost:8080/"
        },
        "id": "LfU0Rd1tuSKQ",
        "outputId": "940448c4-f169-4d9b-bfac-be502a5f6f97"
      },
      "execution_count": null,
      "outputs": [
        {
          "output_type": "stream",
          "name": "stdout",
          "text": [
            "global :  1\n",
            "Inside f() :  1\n",
            "global :  1\n",
            "Inside g() :  2\n",
            "global :  1\n",
            "Inside h() :  3\n",
            "global :  3\n"
          ]
        }
      ]
    },
    {
      "cell_type": "markdown",
      "source": [
        "**lambda functions**\n",
        "\n",
        "used to define an anonymous functions\n",
        "\n",
        "it can have a single expression"
      ],
      "metadata": {
        "id": "CGDQAUGEagQb"
      }
    },
    {
      "cell_type": "code",
      "source": [
        "# lambda with list comprehension\n",
        "\n",
        "li = [lambda arg=x: arg * 10 for x in range(1, 5)]\n",
        "'''\n",
        " you basically get:\n",
        " li=[\n",
        "  lambda arg=1: arg * 10,\n",
        "  lambda arg=2: arg * 10,\n",
        "  ...\n",
        " ]\n",
        " '''\n",
        "\n",
        "for i in li:\n",
        "    print(i())\n"
      ],
      "metadata": {
        "colab": {
          "base_uri": "https://localhost:8080/"
        },
        "id": "5RLr5CV8zroB",
        "outputId": "f910bb20-43e2-4f6e-e5bb-3b6b88132c0e"
      },
      "execution_count": null,
      "outputs": [
        {
          "output_type": "stream",
          "name": "stdout",
          "text": [
            "10\n",
            "20\n",
            "30\n",
            "40\n"
          ]
        }
      ]
    },
    {
      "cell_type": "code",
      "source": [
        "# lambda with multiple statements\n",
        "\n",
        "calc = lambda x, y: (x + y, x * y)\n",
        "\n",
        "res = calc(3, 4)\n",
        "print(res)"
      ],
      "metadata": {
        "colab": {
          "base_uri": "https://localhost:8080/"
        },
        "id": "8sPYpbj3a53X",
        "outputId": "c417e09c-b604-4d07-f94a-23f5cd27058e"
      },
      "execution_count": null,
      "outputs": [
        {
          "output_type": "stream",
          "name": "stdout",
          "text": [
            "(7, 12)\n"
          ]
        }
      ]
    },
    {
      "cell_type": "code",
      "source": [
        "# lambda with filter()\n",
        "\n",
        "n = [1, 2, 3, 4, 5, 6]\n",
        "even = filter(lambda x: x % 2 == 0, n)\n",
        "# filter basically applied the lambda function to each item in the list\n",
        "# and then it separates all those items which return true for the function into another list\n",
        "print(list(even))"
      ],
      "metadata": {
        "colab": {
          "base_uri": "https://localhost:8080/"
        },
        "id": "NDDIrFJKbwPP",
        "outputId": "573229a3-6c4b-4de0-9ca0-f7d5ed17492c"
      },
      "execution_count": null,
      "outputs": [
        {
          "output_type": "stream",
          "name": "stdout",
          "text": [
            "[2, 4, 6]\n"
          ]
        }
      ]
    },
    {
      "cell_type": "code",
      "source": [
        "# lambda with map\n",
        "\n",
        "a = [1, 2, 3, 4]\n",
        "b = map(lambda x: x * 2, a)\n",
        "print(list(b))"
      ],
      "metadata": {
        "colab": {
          "base_uri": "https://localhost:8080/"
        },
        "id": "KcLqy9BBcDaw",
        "outputId": "be6a4704-48d7-460c-abe7-50b56c590eae"
      },
      "execution_count": null,
      "outputs": [
        {
          "output_type": "stream",
          "name": "stdout",
          "text": [
            "[2, 4, 6, 8]\n"
          ]
        }
      ]
    },
    {
      "cell_type": "markdown",
      "source": [
        "# python data structures"
      ],
      "metadata": {
        "id": "Zmy42YT4WdNn"
      }
    },
    {
      "cell_type": "markdown",
      "source": [
        "**strings**"
      ],
      "metadata": {
        "id": "XJHh5YWMXE08"
      }
    },
    {
      "cell_type": "code",
      "source": [
        "# multiline string\n",
        "s = \"\"\"I am Learning\n",
        "Python String on GeeksforGeeks\"\"\"\n",
        "print(s)\n",
        "\n",
        "# string splicing\n",
        "print(s[1:4])\n",
        "print(s[::-1]) # this is used to reverse a string"
      ],
      "metadata": {
        "colab": {
          "base_uri": "https://localhost:8080/"
        },
        "id": "C-GOM1qPcNq6",
        "outputId": "3881b022-704e-4891-9634-2fcd925a6ee4"
      },
      "execution_count": null,
      "outputs": [
        {
          "output_type": "stream",
          "name": "stdout",
          "text": [
            "I am Learning\n",
            "Python String on GeeksforGeeks\n",
            " am\n",
            "skeeGrofskeeG no gnirtS nohtyP\n",
            "gninraeL ma I\n"
          ]
        }
      ]
    },
    {
      "cell_type": "markdown",
      "source": [
        "strings are immutable which means that if you want to update the string, youll have to use new variables and do something like concatenation, slicing or formatting"
      ],
      "metadata": {
        "id": "DWKUEVZDXXS8"
      }
    },
    {
      "cell_type": "code",
      "source": [
        "s = \"hello geeks\"\n",
        "s2 = s.replace(\"geeks\",\"GeeksforGeeks\")\n",
        "print(s2)"
      ],
      "metadata": {
        "colab": {
          "base_uri": "https://localhost:8080/"
        },
        "id": "-vKv8YRCW8oT",
        "outputId": "3c87fca1-90db-4c94-c599-e13554fda8c8"
      },
      "execution_count": null,
      "outputs": [
        {
          "output_type": "stream",
          "name": "stdout",
          "text": [
            "hello GeeksforGeeks\n"
          ]
        }
      ]
    },
    {
      "cell_type": "code",
      "source": [],
      "metadata": {
        "id": "MPYOAQUvXogt"
      },
      "execution_count": null,
      "outputs": []
    }
  ]
}